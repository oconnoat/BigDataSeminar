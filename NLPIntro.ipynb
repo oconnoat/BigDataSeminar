{
 "cells": [
  {
   "cell_type": "markdown",
   "metadata": {
    "slideshow": {
     "slide_type": "-"
    }
   },
   "source": [
    "# Introduction to NLP\n",
    "Alexander O'Connor &lt;Alexander.OConnor@dcu.ie&gt;\n",
    "\n",
    "This notebook will demonstrate some of the basics of python for natural language processing.\n",
    "To run this locall, install iPython, nltk and download the file.\n",
    "\n",
    "If you want to know more, I recommend this: <http://www.nltk.org/book>\n",
    "\n",
    "A handy reference file: <https://blogs.princeton.edu/etc/files/2014/03/Text-Analysis-with-NLTK-Cheatsheet.pdf>\n",
    "\n",
    "# Outline\n",
    "\n",
    "1. Strings and characters&mdash;how text is represented in Python\n",
    "2. From body text to words&mdash;tokenisation &amp; segmentation \n",
    "3. Word Frequencies &amp; Simple Statistics\n",
    "5. Topic Models\n",
    "6. Parsing"
   ]
  },
  {
   "cell_type": "code",
   "execution_count": null,
   "metadata": {
    "collapsed": false,
    "slideshow": {
     "slide_type": "slide"
    }
   },
   "outputs": [],
   "source": [
    "#Library imports and setup -- this code brings in the nltk library, and other supporting utilities.\n",
    "import nltk\n"
   ]
  },
  {
   "cell_type": "markdown",
   "metadata": {
    "slideshow": {
     "slide_type": "slide"
    }
   },
   "source": [
    "# Strings and Characters\n"
   ]
  },
  {
   "cell_type": "code",
   "execution_count": null,
   "metadata": {
    "collapsed": false,
    "slideshow": {
     "slide_type": "subslide"
    }
   },
   "outputs": [],
   "source": [
    "#change the text between the \" to try something else.\n",
    "test_string = u\"Ebenezer unexpectedly bagged two tranquil aardvarks with his jiffy vacuum cleaner.\""
   ]
  },
  {
   "cell_type": "code",
   "execution_count": null,
   "metadata": {
    "collapsed": false,
    "slideshow": {
     "slide_type": "subslide"
    }
   },
   "outputs": [],
   "source": [
    "#print it out\n",
    "test_string"
   ]
  },
  {
   "cell_type": "code",
   "execution_count": null,
   "metadata": {
    "collapsed": false,
    "slideshow": {
     "slide_type": "subslide"
    }
   },
   "outputs": [],
   "source": [
    "#show the numerical representation\n",
    "[ord(word) for word in test_string]"
   ]
  },
  {
   "cell_type": "code",
   "execution_count": null,
   "metadata": {
    "collapsed": false,
    "slideshow": {
     "slide_type": "slide"
    }
   },
   "outputs": [],
   "source": [
    "#simple string operations\n",
    "string_one = u\"hello\"\n",
    "string_two = u\"world\"\n",
    "\n",
    "#stick them together (concatenate)\n",
    "print string_one + string_two\n",
    "#replace a letter\n",
    "print string_one.replace('e','E')\n",
    "#title-case the first word\n",
    "print (string_one+' '+string_two).capitalize()"
   ]
  },
  {
   "cell_type": "markdown",
   "metadata": {
    "slideshow": {
     "slide_type": "slide"
    }
   },
   "source": [
    "# From body text to words&mdash;tokenisation &amp; segmentation "
   ]
  },
  {
   "cell_type": "code",
   "execution_count": null,
   "metadata": {
    "collapsed": false,
    "slideshow": {
     "slide_type": "subslide"
    }
   },
   "outputs": [],
   "source": [
    "#simplest possible tokenisation: split on spaces\n",
    "space_split = \"An example sentence\"\n",
    "#split it\n",
    "word_list = space_split.split(' ')\n",
    "#print the list\n",
    "print word_list\n",
    "#just the *second* word\n",
    "print word_list[1]"
   ]
  },
  {
   "cell_type": "code",
   "execution_count": null,
   "metadata": {
    "collapsed": false,
    "slideshow": {
     "slide_type": "subslide"
    }
   },
   "outputs": [],
   "source": [
    "punctuation_example = \"This example sentence has a full stop, and a comma.\"\n",
    "print punctuation_example.split(' ')"
   ]
  },
  {
   "cell_type": "code",
   "execution_count": null,
   "metadata": {
    "collapsed": false,
    "slideshow": {
     "slide_type": "subslide"
    }
   },
   "outputs": [],
   "source": [
    "para_example = \"This is two sentences. Should we take this into account?\"\n",
    "print para_example.split(' ')"
   ]
  },
  {
   "cell_type": "markdown",
   "metadata": {
    "slideshow": {
     "slide_type": "subslide"
    }
   },
   "source": [
    "## Word Frequencies and Simple Statistics"
   ]
  },
  {
   "cell_type": "code",
   "execution_count": null,
   "metadata": {
    "collapsed": false,
    "slideshow": {
     "slide_type": "slide"
    }
   },
   "outputs": [],
   "source": [
    "complex_example = \"Mr. Benn is an ordinary fellow, living an ordinary life in an ordinary suburban house, at Number 52, Festive Road. One day, Mr. Benn receives an invitation to a fancy dress party, and so, donning his bowler hat, he sets off to find a costume to wear. Unable to find a suitable outfit in the usual shops, he turns down a small lane and finds a shop filled with strange and unusual costumes. Inside, Mr Benn asks the fez-wearing shopkeeper if he can try on a suit of red armour; he then enters the changing room, puts on the outfit, and walks through another door... and suddenly finds himself transported back to medieval times. It is the first of many amazing and extraordinary adventures for Mr. Benn\""
   ]
  },
  {
   "cell_type": "code",
   "execution_count": null,
   "metadata": {
    "collapsed": false,
    "slideshow": {
     "slide_type": "subslide"
    }
   },
   "outputs": [],
   "source": [
    "#Split the text into sentences\n",
    "print nltk.sent_tokenize(complex_example)"
   ]
  },
  {
   "cell_type": "code",
   "execution_count": null,
   "metadata": {
    "collapsed": false
   },
   "outputs": [],
   "source": [
    "#Split the text into words\n",
    "print nltk.word_tokenize(complex_example)"
   ]
  },
  {
   "cell_type": "code",
   "execution_count": null,
   "metadata": {
    "collapsed": false
   },
   "outputs": [],
   "source": [
    "# What does this do?\n",
    "print nltk.word_tokenize(nltk.sent_tokenize(complex_example)[0])"
   ]
  },
  {
   "cell_type": "code",
   "execution_count": null,
   "metadata": {
    "collapsed": false
   },
   "outputs": [],
   "source": [
    "# Use a frequency distribution \n",
    "distribution = nltk.FreqDist(nltk.word_tokenize(complex_example))"
   ]
  },
  {
   "cell_type": "code",
   "execution_count": null,
   "metadata": {
    "collapsed": false
   },
   "outputs": [],
   "source": [
    "#ten most common words\n",
    "print distribution.most_common(10)"
   ]
  },
  {
   "cell_type": "code",
   "execution_count": null,
   "metadata": {
    "collapsed": false
   },
   "outputs": [],
   "source": [
    "# print some bigrams\n",
    "print list(nltk.bigrams(nltk.word_tokenize(complex_example)))[0:5]"
   ]
  },
  {
   "cell_type": "code",
   "execution_count": null,
   "metadata": {
    "collapsed": false
   },
   "outputs": [],
   "source": [
    "# Some longer text\n",
    "\n",
    "pride = '''It is a truth universally acknowledged, that a single man in possession\n",
    "of a good fortune, must be in want of a wife.\n",
    "\n",
    "However little known the feelings or views of such a man may be on his\n",
    "first entering a neighbourhood, this truth is so well fixed in the minds\n",
    "of the surrounding families, that he is considered the rightful property\n",
    "of some one or other of their daughters.\n",
    "\n",
    "\"My dear Mr. Bennet,\" said his lady to him one day, \"have you heard that\n",
    "Netherfield Park is let at last?\"\n",
    "\n",
    "Mr. Bennet replied that he had not.\n",
    "\n",
    "\"But it is,\" returned she; \"for Mrs. Long has just been here, and she\n",
    "told me all about it.\"\n",
    "\n",
    "Mr. Bennet made no answer.\n",
    "\n",
    "\"Do you not want to know who has taken it?\" cried his wife impatiently.\n",
    "\n",
    "\"You want to tell me, and I have no objection to hearing it.\"\n",
    "\n",
    "This was invitation enough.'''\n",
    "\n"
   ]
  },
  {
   "cell_type": "code",
   "execution_count": null,
   "metadata": {
    "collapsed": false
   },
   "outputs": [],
   "source": [
    "alice = '''Alice was beginning to get very tired of sitting by her sister on the\n",
    "bank, and of having nothing to do: once or twice she had peeped into the\n",
    "book her sister was reading, but it had no pictures or conversations in\n",
    "it, 'and what is the use of a book,' thought Alice 'without pictures or\n",
    "conversations?'\n",
    "\n",
    "So she was considering in her own mind (as well as she could, for the\n",
    "hot day made her feel very sleepy and stupid), whether the pleasure\n",
    "of making a daisy-chain would be worth the trouble of getting up and\n",
    "picking the daisies, when suddenly a White Rabbit with pink eyes ran\n",
    "close by her.\n",
    "\n",
    "There was nothing so VERY remarkable in that; nor did Alice think it so\n",
    "VERY much out of the way to hear the Rabbit say to itself, 'Oh dear!\n",
    "Oh dear! I shall be late!' (when she thought it over afterwards, it\n",
    "occurred to her that she ought to have wondered at this, but at the time\n",
    "it all seemed quite natural); but when the Rabbit actually TOOK A WATCH\n",
    "OUT OF ITS WAISTCOAT-POCKET, and looked at it, and then hurried on,\n",
    "Alice started to her feet, for it flashed across her mind that she had\n",
    "never before seen a rabbit with either a waistcoat-pocket, or a watch\n",
    "to take out of it, and burning with curiosity, she ran across the field\n",
    "after it, and fortunately was just in time to see it pop down a large\n",
    "rabbit-hole under the hedge.\n",
    "\n",
    "In another moment down went Alice after it, never once considering how\n",
    "in the world she was to get out again.\n",
    "\n",
    "The rabbit-hole went straight on like a tunnel for some way, and then\n",
    "dipped suddenly down, so suddenly that Alice had not a moment to think\n",
    "about stopping herself before she found herself falling down a very deep\n",
    "well.'''"
   ]
  },
  {
   "cell_type": "code",
   "execution_count": null,
   "metadata": {
    "collapsed": false
   },
   "outputs": [],
   "source": [
    "pride_words = nltk.word_tokenize(pride)\n",
    "alice_words = nltk.word_tokenize(alice)\n",
    "\n",
    "pride_freq = nltk.FreqDist(pride_words)\n",
    "alice_freq = nltk.FreqDist(alice_words)\n",
    "\n",
    "print pride_freq.most_common(5)\n",
    "print alice_freq.most_common(5)"
   ]
  },
  {
   "cell_type": "markdown",
   "metadata": {},
   "source": [
    "## Punctuation and Stopwords "
   ]
  },
  {
   "cell_type": "code",
   "execution_count": null,
   "metadata": {
    "collapsed": false
   },
   "outputs": [],
   "source": [
    "punctuation = [',','.','\\'','\"','!',';','(',')','``','\\'\\'']\n",
    "alice_nopunc = [word for word in alice_words if word not in punctuation]\n",
    "pride_nopunc = [word for word in pride_words if word not in punctuation]"
   ]
  },
  {
   "cell_type": "code",
   "execution_count": null,
   "metadata": {
    "collapsed": false
   },
   "outputs": [],
   "source": [
    "print alice_nopunc"
   ]
  },
  {
   "cell_type": "code",
   "execution_count": null,
   "metadata": {
    "collapsed": false
   },
   "outputs": [],
   "source": [
    "print pride_nopunc"
   ]
  },
  {
   "cell_type": "code",
   "execution_count": null,
   "metadata": {
    "collapsed": false
   },
   "outputs": [],
   "source": [
    "pride_freq = nltk.FreqDist(pride_nopunc)\n",
    "alice_freq = nltk.FreqDist(alice_nopunc)"
   ]
  },
  {
   "cell_type": "code",
   "execution_count": null,
   "metadata": {
    "collapsed": false
   },
   "outputs": [],
   "source": [
    "print pride_freq.most_common(5)\n",
    "print alice_freq.most_common(5)"
   ]
  },
  {
   "cell_type": "code",
   "execution_count": null,
   "metadata": {
    "collapsed": false
   },
   "outputs": [],
   "source": [
    "from nltk.corpus import stopwords\n",
    "stops = stopwords.words('english')\n",
    "\n",
    "print sorted(stops)[0:5]"
   ]
  },
  {
   "cell_type": "code",
   "execution_count": null,
   "metadata": {
    "collapsed": false
   },
   "outputs": [],
   "source": [
    "alice_nostop = [word for word in alice_nopunc if word not in stops]\n",
    "pride_nostop = [word for word in pride_nopunc if word not in stops]\n",
    "\n",
    "pride_freq = nltk.FreqDist(pride_nostop)\n",
    "alice_freq = nltk.FreqDist(alice_nostop)\n",
    "\n",
    "print pride_freq.most_common(5)\n",
    "print alice_freq.most_common(5)"
   ]
  },
  {
   "cell_type": "code",
   "execution_count": null,
   "metadata": {
    "collapsed": false
   },
   "outputs": [],
   "source": [
    "# Stemming\n",
    "from nltk.stem import PorterStemmer\n",
    "stemmer=PorterStemmer()\n",
    "\n",
    "print stemmer.stem('bricks')\n",
    "print stemmer.stem('bicycles')\n",
    "print stemmer.stem('houses')\n",
    "\n",
    "words = ['walk','walker','walks','walking', 'walked']\n",
    "stemmed = set([stemmer.stem(word) for word in words])\n",
    "\n",
    "print list(stemmed)"
   ]
  },
  {
   "cell_type": "markdown",
   "metadata": {},
   "source": [
    "##Part of Speech Tagging"
   ]
  },
  {
   "cell_type": "code",
   "execution_count": null,
   "metadata": {
    "collapsed": false
   },
   "outputs": [],
   "source": [
    "sentence = 'There once was a man from Nantucket.'\n",
    "\n",
    "nltk.pos_tag(nltk.word_tokenize(sentence))"
   ]
  },
  {
   "cell_type": "markdown",
   "metadata": {},
   "source": [
    "https://www.ling.upenn.edu/courses/Fall_2003/ling001/penn_treebank_pos.html"
   ]
  },
  {
   "cell_type": "code",
   "execution_count": null,
   "metadata": {
    "collapsed": false
   },
   "outputs": [],
   "source": [
    "#POS Tag Alice\n",
    "tagged_alice = nltk.pos_tag(nltk.word_tokenize(alice))\n",
    "\n",
    "#Print all the NN (Noun, singular or mass)\n",
    "[tag[0] for tag in tagged_alice if tag[1] == 'NN']\n"
   ]
  },
  {
   "cell_type": "code",
   "execution_count": null,
   "metadata": {
    "collapsed": false
   },
   "outputs": [],
   "source": []
  }
 ],
 "metadata": {
  "kernelspec": {
   "display_name": "Python 2",
   "language": "python",
   "name": "python2"
  },
  "language_info": {
   "codemirror_mode": {
    "name": "ipython",
    "version": 2
   },
   "file_extension": ".py",
   "mimetype": "text/x-python",
   "name": "python",
   "nbconvert_exporter": "python",
   "pygments_lexer": "ipython2",
   "version": "2.7.10"
  }
 },
 "nbformat": 4,
 "nbformat_minor": 0
}
